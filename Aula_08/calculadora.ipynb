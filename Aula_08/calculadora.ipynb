{
 "cells": [
  {
   "cell_type": "markdown",
   "metadata": {},
   "source": [
    "**Calculadora utilizando tkinter**"
   ]
  },
  {
   "cell_type": "code",
   "execution_count": 4,
   "metadata": {},
   "outputs": [
    {
     "ename": "ModuleNotFoundError",
     "evalue": "No module named 'tkinter'",
     "output_type": "error",
     "traceback": [
      "\u001b[0;31m---------------------------------------------------------------------------\u001b[0m",
      "\u001b[0;31mModuleNotFoundError\u001b[0m                       Traceback (most recent call last)",
      "\u001b[1;32m/home/matheus/Documentos/MeusProjetos/Desenvolvimento-rapido-em-python/Desenvolvimento-rapido-em-python/Aula_08/calculadora.ipynb Cell 2\u001b[0m line \u001b[0;36m1\n\u001b[0;32m----> <a href='vscode-notebook-cell:/home/matheus/Documentos/MeusProjetos/Desenvolvimento-rapido-em-python/Desenvolvimento-rapido-em-python/Aula_08/calculadora.ipynb#W1sZmlsZQ%3D%3D?line=0'>1</a>\u001b[0m \u001b[39mfrom\u001b[39;00m \u001b[39mtkinter\u001b[39;00m \u001b[39mimport\u001b[39;00m \u001b[39m*\u001b[39m\n\u001b[1;32m      <a href='vscode-notebook-cell:/home/matheus/Documentos/MeusProjetos/Desenvolvimento-rapido-em-python/Desenvolvimento-rapido-em-python/Aula_08/calculadora.ipynb#W1sZmlsZQ%3D%3D?line=1'>2</a>\u001b[0m \u001b[39mfrom\u001b[39;00m \u001b[39mmath\u001b[39;00m \u001b[39mimport\u001b[39;00m \u001b[39m*\u001b[39m\n\u001b[1;32m      <a href='vscode-notebook-cell:/home/matheus/Documentos/MeusProjetos/Desenvolvimento-rapido-em-python/Desenvolvimento-rapido-em-python/Aula_08/calculadora.ipynb#W1sZmlsZQ%3D%3D?line=2'>3</a>\u001b[0m \u001b[39mimport\u001b[39;00m \u001b[39msys\u001b[39;00m\n",
      "\u001b[0;31mModuleNotFoundError\u001b[0m: No module named 'tkinter'"
     ]
    }
   ],
   "source": [
    "from tkinter import *\n",
    "from math import *\n",
    "import sys"
   ]
  },
  {
   "cell_type": "code",
   "execution_count": 14,
   "metadata": {},
   "outputs": [],
   "source": [
    "class calculadora:\n",
    "    def __init__(self, toplevel):\n",
    "        self.frame = Frame(toplevel)\n",
    "        self.frame.pack()\n",
    "\n",
    "        #Entradas do usuario\n",
    "        \n",
    "        \n",
    "        self.e1 = Entry(self.frame)\n",
    "        self.e1.grid(row=1, column=1)\n",
    "        \n",
    "        self.e2 = Entry(self.frame)\n",
    "        self.e2.grid(row=2, column=1)\n",
    "\n",
    "\n",
    "        \n",
    "        \n",
    "instancia = Tk()\n",
    "calculadora(instancia)\n",
    "instancia.mainloop()"
   ]
  }
 ],
 "metadata": {
  "interpreter": {
   "hash": "b89b5cfaba6639976dc87ff2fec6d58faec662063367e2c229c520fe71072417"
  },
  "kernelspec": {
   "display_name": "Python 3.10.8 64-bit",
   "language": "python",
   "name": "python3"
  },
  "language_info": {
   "codemirror_mode": {
    "name": "ipython",
    "version": 3
   },
   "file_extension": ".py",
   "mimetype": "text/x-python",
   "name": "python",
   "nbconvert_exporter": "python",
   "pygments_lexer": "ipython3",
   "version": "3.10.12"
  },
  "orig_nbformat": 4
 },
 "nbformat": 4,
 "nbformat_minor": 2
}
