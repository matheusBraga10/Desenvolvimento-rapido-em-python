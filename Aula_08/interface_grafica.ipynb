{
 "cells": [
  {
   "cell_type": "markdown",
   "metadata": {},
   "source": [
    "**Interface gráfica - tkinter**"
   ]
  },
  {
   "cell_type": "markdown",
   "metadata": {},
   "source": [
    "- Criando janela vazia"
   ]
  },
  {
   "cell_type": "code",
   "execution_count": 1,
   "metadata": {},
   "outputs": [
    {
     "ename": "ModuleNotFoundError",
     "evalue": "No module named 'tkinter'",
     "output_type": "error",
     "traceback": [
      "\u001b[0;31m---------------------------------------------------------------------------\u001b[0m",
      "\u001b[0;31mModuleNotFoundError\u001b[0m                       Traceback (most recent call last)",
      "\u001b[1;32m/home/matheus/Documentos/MeusProjetos/Desenvolvimento-rapido-em-python/Desenvolvimento-rapido-em-python/Aula_08/interface_grafica.ipynb Cell 3\u001b[0m line \u001b[0;36m1\n\u001b[0;32m----> <a href='vscode-notebook-cell:/home/matheus/Documentos/MeusProjetos/Desenvolvimento-rapido-em-python/Desenvolvimento-rapido-em-python/Aula_08/interface_grafica.ipynb#W2sZmlsZQ%3D%3D?line=0'>1</a>\u001b[0m \u001b[39mimport\u001b[39;00m \u001b[39mtkinter\u001b[39;00m\n\u001b[1;32m      <a href='vscode-notebook-cell:/home/matheus/Documentos/MeusProjetos/Desenvolvimento-rapido-em-python/Desenvolvimento-rapido-em-python/Aula_08/interface_grafica.ipynb#W2sZmlsZQ%3D%3D?line=1'>2</a>\u001b[0m janela \u001b[39m=\u001b[39m tkinter\u001b[39m.\u001b[39mTk()\n\u001b[1;32m      <a href='vscode-notebook-cell:/home/matheus/Documentos/MeusProjetos/Desenvolvimento-rapido-em-python/Desenvolvimento-rapido-em-python/Aula_08/interface_grafica.ipynb#W2sZmlsZQ%3D%3D?line=2'>3</a>\u001b[0m janela\u001b[39m.\u001b[39mmainloop()\n",
      "\u001b[0;31mModuleNotFoundError\u001b[0m: No module named 'tkinter'"
     ]
    }
   ],
   "source": [
    "import tkinter\n",
    "janela = tkinter.Tk()\n",
    "janela.mainloop()"
   ]
  },
  {
   "cell_type": "markdown",
   "metadata": {},
   "source": [
    "- Widgets\n",
    "    - Button \n",
    "        - Botão - É usado para exibir os botões na aplicação. São usados, por exemplo, para confirmar uma ação de salvar os dados.\n",
    "    - Canvas\n",
    "        - Telas - É usado para desenhar formas, como linhas, ovais, polígonos e retângulos.\n",
    "    - Checkbutton\n",
    "        - Botão de verificação\n",
    "    - Entry\n",
    "        - Entrada de texto\n",
    "    - Frame\n",
    "        - Quadros\n",
    "    - Label\n",
    "        - Rótulos\n",
    "    - Listbox\n",
    "        - Caixa de listagem\n",
    "    - Menubutton\n",
    "        - Usado para exibir opçoes de menu\n",
    "    - Menu\n",
    "        - Esses comandos estão contidos no Menubutton\n",
    "    - Message\n",
    "        - Mensagem\n",
    "    - Radiobutton\n",
    "        - Botão de rádio\n",
    "    - Scale\n",
    "        - Escala\n",
    "    - Scrollbar\n",
    "        - Barra de rolagem\n",
    "    - Text\n",
    "        - Texto\n",
    "    - Toplevel\n",
    "        - Container de janela separado\n",
    "    - Spinbox\n",
    "        - Seleciona um número fixo de valores\n",
    "    - PanedWindow\n",
    "        - Widget de conteiner que pode conter qualquer numero de paineis\n",
    "    - LabelFrame\n",
    "        - Atua como espaçador, ou container paar layouts de janela\n",
    "    - tkMessageBox\n",
    "        - Exibe caixa de mensagens\n",
    "        "
   ]
  },
  {
   "cell_type": "markdown",
   "metadata": {},
   "source": [
    "- Janela dimensional com titulo de janela aplicado"
   ]
  },
  {
   "cell_type": "code",
   "execution_count": 2,
   "metadata": {},
   "outputs": [],
   "source": [
    "import tkinter as tk\n",
    "janela = tk.Tk()\n",
    "janela.title(\" Aplicação GUI\")\n",
    "janela.mainloop()"
   ]
  },
  {
   "cell_type": "markdown",
   "metadata": {},
   "source": [
    "- Janela não dimensional com titulo"
   ]
  },
  {
   "cell_type": "code",
   "execution_count": 4,
   "metadata": {},
   "outputs": [],
   "source": [
    "import tkinter as tk\n",
    "janela = tk.Tk()\n",
    "janela.title(\" Aplicação GUI NÃO Dimensionável\")\n",
    "janela.resizable(False, False) #janela não dimensionável\n",
    "janela.mainloop()"
   ]
  },
  {
   "cell_type": "markdown",
   "metadata": {},
   "source": [
    "- Label"
   ]
  },
  {
   "cell_type": "code",
   "execution_count": 5,
   "metadata": {},
   "outputs": [],
   "source": [
    "import tkinter as tk\n",
    "from tkinter import ttk\n",
    "janela = tk.Tk()\n",
    "janela.title(\" Aplicação GUI com o Widget Label\")\n",
    "ttk.Label(janela, text=\"Componente Label\" ).grid(column=0,\n",
    "row=0)\n",
    "janela.mainloop()"
   ]
  },
  {
   "cell_type": "markdown",
   "metadata": {},
   "source": [
    "- Button"
   ]
  },
  {
   "cell_type": "code",
   "execution_count": 7,
   "metadata": {},
   "outputs": [],
   "source": [
    "import tkinter as tk\n",
    "contador = 0\n",
    "def contador_label(lblRotulo):\n",
    "    def funcao_contar():\n",
    "        global contador\n",
    "        contador = contador + 1\n",
    "        lblRotulo.config(text=str(contador))\n",
    "        lblRotulo.after(1000, funcao_contar)\n",
    "    funcao_contar()\n",
    "janela = tk.Tk()\n",
    "janela.title(\"Contagem dos Segundos\")\n",
    "lblRotulo = tk.Label(janela, fg=\"green\")\n",
    "lblRotulo.pack()\n",
    "contador_label(lblRotulo)\n",
    "btnAcao = tk.Button(janela, text='Clique aqui para Interromper a contagem',\n",
    "width=50, command=janela.destroy)\n",
    "btnAcao.pack()\n",
    "janela.mainloop()"
   ]
  },
  {
   "cell_type": "markdown",
   "metadata": {},
   "source": [
    "- Entry"
   ]
  },
  {
   "cell_type": "code",
   "execution_count": 1,
   "metadata": {},
   "outputs": [],
   "source": [
    "import tkinter as tk\n",
    "def mostrar_nomes():\n",
    "    print(\"Nome: %s\\nSobrenome: %s\" % (e1.get(), e2.get()))\n",
    "janela = tk.Tk()\n",
    "janela.title(\"Aplicação GUI com o Widget Entry\")\n",
    "tk.Label(janela,text=\"Nome\").grid(row=0)\n",
    "tk.Label(janela,text=\"Sobrenome\").grid(row=1)\n",
    "e1 = tk.Entry(janela)\n",
    "e2 = tk.Entry(janela)\n",
    "e1.grid(row=0, column=1)\n",
    "e2.grid(row=1, column=1)\n",
    "tk.Button(janela,\n",
    "text='Sair',command=janela.quit).grid(row=3,column=0,sticky=tk.W,pady=4)\n",
    "tk.Button(janela, text='Exibir Dados',\n",
    "command=mostrar_nomes).grid(row=3,column=1,sticky=tk.W,pady=4)\n",
    "tk.mainloop()"
   ]
  },
  {
   "cell_type": "markdown",
   "metadata": {},
   "source": [
    "- Radiobutton"
   ]
  },
  {
   "cell_type": "code",
   "execution_count": 2,
   "metadata": {},
   "outputs": [],
   "source": [
    "import tkinter as tk\n",
    "janela = tk.Tk()\n",
    "v = tk.IntVar()\n",
    "tk.Label(janela,text=\"\"\"Escolha uma linguagem de\n",
    "programação:\"\"\",justify = tk.LEFT, padx = 20).pack()\n",
    "tk.Radiobutton(janela,text=\"python\",padx =\n",
    "25,variable=v,value=1).pack(anchor=tk.W)\n",
    "tk.Radiobutton(janela,text=\"C++\",padx =\n",
    "25,variable=v,value=2).pack(anchor=tk.W)\n",
    "janela.mainloop()"
   ]
  },
  {
   "cell_type": "markdown",
   "metadata": {},
   "source": [
    "- Checkbox"
   ]
  },
  {
   "cell_type": "code",
   "execution_count": 3,
   "metadata": {},
   "outputs": [],
   "source": [
    "import tkinter as tk\n",
    "from tkinter import ttk\n",
    "janela = tk.Tk()\n",
    "def escolha_carreira():\n",
    "    print(\"Gerencial: %d,\\nTécnica : %d\" % (var1.get(), var2.get()))\n",
    "ttk.Label(janela, text=\"Escolha sua vocação:\").grid(row=0, sticky=tk.W)\n",
    "var1 = tk.IntVar()\n",
    "ttk.Checkbutton(janela, text=\"Gerencial\", variable=var1).grid(row=1,\n",
    "sticky=tk.W)\n",
    "var2 = tk.IntVar()\n",
    "ttk.Checkbutton(janela, text=\"Técnica\", variable=var2).grid(row=2,\n",
    "sticky=tk.W)\n",
    "ttk.Button(janela, text='Sair', command=janela.quit).grid(row=3,\n",
    "sticky=tk.W, pady=4)\n",
    "ttk.Button(janela, text='Mostrar', command=escolha_carreira).grid(row=4,\n",
    "sticky=tk.W, pady=4)\n",
    "janela.mainloop()"
   ]
  },
  {
   "cell_type": "markdown",
   "metadata": {},
   "source": [
    "- Text"
   ]
  },
  {
   "cell_type": "code",
   "execution_count": 4,
   "metadata": {},
   "outputs": [],
   "source": [
    "import tkinter as tk\n",
    "janela = tk.Tk()\n",
    "T = tk.Text(janela, height=2, width=30)\n",
    "T.pack()\n",
    "T.insert(tk.END, \"Este é um texto\\ncom duas linhas\\n\")\n",
    "tk.mainloop()"
   ]
  },
  {
   "cell_type": "markdown",
   "metadata": {},
   "source": [
    "- Message"
   ]
  },
  {
   "cell_type": "code",
   "execution_count": 6,
   "metadata": {},
   "outputs": [],
   "source": [
    "import tkinter as tk\n",
    "janela = tk.Tk()\n",
    "mensagem_para_usuario = \"Esta é uma mensagem.\\n(Pode ser bastante útil para o usuário)\"\n",
    "msg = tk.Message(janela, text = mensagem_para_usuario)\n",
    "msg.config(bg='lightgreen', font=('times', 24, 'italic'))\n",
    "msg.pack()\n",
    "janela.mainloop()"
   ]
  },
  {
   "cell_type": "markdown",
   "metadata": {},
   "source": [
    "- Slider"
   ]
  },
  {
   "cell_type": "code",
   "execution_count": 7,
   "metadata": {},
   "outputs": [],
   "source": [
    "import tkinter as tk\n",
    "from tkinter import ttk\n",
    "def mostrar_valores():\n",
    "    print (w1.get(), w2.get())\n",
    "janela = tk.Tk()\n",
    "w1 = ttk.Scale(janela, from_=0, to=50)\n",
    "w1.pack()\n",
    "w2 = ttk.Scale(janela, from_=0, to=100, orient=tk.HORIZONTAL)\n",
    "w2.pack()\n",
    "ttk.Button(janela, text='Mostrar a Escala',\n",
    "command=mostrar_valores).pack()\n",
    "janela.mainloop()"
   ]
  },
  {
   "cell_type": "markdown",
   "metadata": {},
   "source": [
    "- Dialog"
   ]
  },
  {
   "cell_type": "code",
   "execution_count": 8,
   "metadata": {},
   "outputs": [],
   "source": [
    "import tkinter as tk\n",
    "from tkinter import messagebox as mb\n",
    "def resposta():\n",
    "    mb.showerror(\"Resposta\", \"Desculpe, nenhuma resposta disponível!\")\n",
    "def verificacao():\n",
    "    if mb.askyesno('Verificar', 'Realmente quer sair?'):\n",
    "        mb.showwarning('Yes', 'Ainda não foi implementado')\n",
    "    else:\n",
    "        mb.showinfo('No', 'A opção de Sair foi cancelada')\n",
    "tk.Button(text='Sair', command=verificacao).pack(fill=tk.X)\n",
    "tk.Button(text='Resposta', command=resposta).pack(fill=tk.X)\n",
    "tk.mainloop()"
   ]
  },
  {
   "cell_type": "markdown",
   "metadata": {},
   "source": [
    "- Combobox"
   ]
  },
  {
   "cell_type": "code",
   "execution_count": 9,
   "metadata": {},
   "outputs": [],
   "source": [
    "import tkinter as tk\n",
    "from tkinter import ttk\n",
    "# Criação de uma janela tkinter\n",
    "janela = tk.Tk()\n",
    "janela.title('Combobox')\n",
    "janela.geometry('500x250')\n",
    "# Componente Label\n",
    "ttk.Label(janela, text = \"Combobox Widget\",background = 'green', foreground\n",
    "=\"white\",font = (\"Times New Roman\", 15)).grid(row = 0, column = 1)\n",
    "# Componente Label\n",
    "ttk.Label(janela, text = \"Selecione um mês :\",font = (\"Times New Roman\",\n",
    "10)).grid(column = 0,row = 5, padx = 10, pady = 25)\n",
    "# Componente Combobox\n",
    "n = tk.StringVar()\n",
    "escolha = ttk.Combobox(janela, width = 27, textvariable = n)\n",
    "# Adição de itens no Combobox\n",
    "escolha['values'] = (' Janeiro',' Fevereiro',' Março',' Abril',' Maio',' Junho','Julho',' Agosto',' Setembro',' Outubro',' Novembro',' Dezembro')\n",
    "escolha.grid(column = 1, row = 5)\n",
    "escolha.current()\n",
    "janela.mainloop()"
   ]
  },
  {
   "cell_type": "markdown",
   "metadata": {},
   "source": [
    "- Layout \n",
    "    - Pack \n",
    "        - Adiciona Widgets na ordem\n",
    "    - Grid\n",
    "        - Divide container em grade"
   ]
  },
  {
   "cell_type": "code",
   "execution_count": 26,
   "metadata": {},
   "outputs": [
    {
     "data": {
      "text/plain": [
       "<__main__.PackDemo object .!packdemo2>"
      ]
     },
     "execution_count": 26,
     "metadata": {},
     "output_type": "execute_result"
    }
   ],
   "source": [
    "from tkinter import *\n",
    "\n",
    "class PackDemo( Frame ):\n",
    "    def __init__(self):\n",
    "        Frame.__init__(self)\n",
    "        # Inicializando o frame\n",
    "        self.master.title(\"Gerenciador pack\")\n",
    "        self.master.geometry( \"600x250\" )\n",
    "        self.pack( expand = YES, fill = BOTH)\n",
    "        \n",
    "        # Botao que adiciona outros, no topo\n",
    "        self.botao1 = Button(self, text = \"Adicionar Botão\", command = self.adicionarBotao)\n",
    "        self.botao1.pack(side = TOP)\n",
    "        \n",
    "        # Botão 2, no fundo e preenche X e Y\n",
    "        self.botao2 = Button(self,\n",
    "        text = \"expand = NO, fill = BOTH\")\n",
    "        self.botao2.pack( side = BOTTOM, fill = BOTH )\n",
    "\n",
    "        # Botão3: na esquerda, fill só na horizontal\n",
    "        self.botao3 = Button( self, text = \"expand = YES, fill = X\" )\n",
    "        self.botao3.pack( side = LEFT, expand = YES, fill = X )\n",
    "        # Botão4: na direita, fill só na vertical\n",
    "        self.botao4 = Button( self, text = \"expand = YES, fill = Y\" )\n",
    "        self.botao4.pack( side = RIGHT, expand = YES, fill = Y )\n",
    "        \n",
    "        mainloop()\n",
    "\n",
    "    def adicionarBotao( self ):\n",
    "        Button(self, text = \"Botão novo\" ).pack(pady = 5)\n",
    "\n",
    "PackDemo()"
   ]
  },
  {
   "cell_type": "code",
   "execution_count": 19,
   "metadata": {},
   "outputs": [
    {
     "data": {
      "text/plain": [
       "<__main__.Grid object .!grid>"
      ]
     },
     "execution_count": 19,
     "metadata": {},
     "output_type": "execute_result"
    }
   ],
   "source": [
    "from tkinter import *\n",
    "class Grid( Frame ):\n",
    "    def __init__(self):\n",
    "        # Inicializando o frame\n",
    "        Frame.__init__(self)\n",
    "        self.master.title(\"Grid\")\n",
    "        self.master.geometry( \"80x80\" )\n",
    "        # Criando os labels e adicionando\n",
    "        # com o método grid()\n",
    "        for linha in range(3):\n",
    "            for coluna in range(3):\n",
    "                Label(self.master, text=str(linha)+','+str(coluna)).grid(row=linha,column=coluna)   \n",
    "    mainloop()\n",
    "    \n",
    "Grid()"
   ]
  },
  {
   "cell_type": "markdown",
   "metadata": {},
   "source": [
    "- Event handlers\n",
    "    - Manipuladores de evento"
   ]
  },
  {
   "cell_type": "code",
   "execution_count": 28,
   "metadata": {},
   "outputs": [],
   "source": [
    "from tkinter import *\n",
    "class Janela:\n",
    "    def __init__ (self,toplevel):\n",
    "        self.frame=Frame(toplevel)\n",
    "        self.frame.pack()\n",
    "        self.texto=Label(self.frame, text='Clique para ficar amarelo')\n",
    "        self.texto['width']=26\n",
    "        self.texto['height']=3\n",
    "        self.texto.pack()\n",
    "        self.botaoverde=Button(self.frame,text='Clique')\n",
    "        self.botaoverde['background']='green'\n",
    "\n",
    "        self.botaoverde.bind(\"<Button-1>\",self.muda_cor)\n",
    "\n",
    "        self.botaoverde.pack()\n",
    "    def muda_cor(self, event): # Muda a cor do botao!\n",
    "        if self.botaoverde['bg']=='green':\n",
    "            self.botaoverde['bg']='yellow'\n",
    "            self.texto['text']='Clique para ficar verde'\n",
    "        else:\n",
    "            self.botaoverde['bg']='green'\n",
    "            self.texto['text']='Clique para ficar amarelo'\n",
    "\n",
    "raiz=Tk()\n",
    "Janela(raiz)\n",
    "raiz.mainloop()"
   ]
  },
  {
   "cell_type": "code",
   "execution_count": 29,
   "metadata": {},
   "outputs": [],
   "source": [
    "from tkinter import *\n",
    "\n",
    "class Janela:\n",
    "    def __init__ (self,toplevel):\n",
    "        self.frame=Frame(toplevel)\n",
    "        self.frame.pack()\n",
    "        self.b1=Button(self.frame)\n",
    "        self.b1.bind(\"<Button-1>\", self.press_b1)\n",
    "        self.b1.bind(\"<ButtonRelease>\", self.release_b1)\n",
    "        self.b1['text'] = 'Clique em mim!'\n",
    "        self.b1['width'], self.b1['bg'] = 20, 'brown'\n",
    "        self.b1['fg']='yellow'\n",
    "        self.b1.pack(side=LEFT)\n",
    "\n",
    "        self.b2=Button(self.frame)\n",
    "        self.b2['width'], self.b2['bg'] = 20, 'brown'\n",
    "        self.b2['fg']='yellow'\n",
    "        self.b2.pack(side=LEFT)\n",
    "\n",
    "        self.b3=Button(self.frame, command=self.click_b3)\n",
    "        self.b3['width'], self.b3['bg'] = 20, 'brown'\n",
    "        self.b3['fg']='yellow'\n",
    "        self.b3.pack(side=LEFT)\n",
    "\n",
    "    def press_b1(self,event):\n",
    "        self.b1['text']=''\n",
    "        self.b2['text']='Errou! Estou aqui!'\n",
    "\n",
    "    def release_b1(self,event):\n",
    "        self.b2['text']=''\n",
    "        self.b3['text']='OOOpa! Mudei de novo!'\n",
    "\n",
    "    def click_b3(self):\n",
    "        self.b3['text']='Ok... Você me pegou...'\n",
    "\n",
    "instancia=Tk()\n",
    "Janela(instancia)\n",
    "instancia.mainloop()"
   ]
  }
 ],
 "metadata": {
  "interpreter": {
   "hash": "b89b5cfaba6639976dc87ff2fec6d58faec662063367e2c229c520fe71072417"
  },
  "kernelspec": {
   "display_name": "Python 3.10.8 64-bit",
   "language": "python",
   "name": "python3"
  },
  "language_info": {
   "codemirror_mode": {
    "name": "ipython",
    "version": 3
   },
   "file_extension": ".py",
   "mimetype": "text/x-python",
   "name": "python",
   "nbconvert_exporter": "python",
   "pygments_lexer": "ipython3",
   "version": "3.10.12"
  },
  "orig_nbformat": 4
 },
 "nbformat": 4,
 "nbformat_minor": 2
}
