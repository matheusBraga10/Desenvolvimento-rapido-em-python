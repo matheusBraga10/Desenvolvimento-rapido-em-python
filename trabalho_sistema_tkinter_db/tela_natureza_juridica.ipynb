{
 "cells": [
  {
   "cell_type": "markdown",
   "metadata": {},
   "source": [
    "**Cria conexão com principal**"
   ]
  },
  {
   "cell_type": "markdown",
   "metadata": {},
   "source": [
    "- Importando tela"
   ]
  },
  {
   "cell_type": "code",
   "execution_count": 37,
   "metadata": {},
   "outputs": [],
   "source": [
    "import tkinter as tk\n",
    "from tkinter import ttk"
   ]
  },
  {
   "cell_type": "code",
   "execution_count": 35,
   "metadata": {},
   "outputs": [],
   "source": [
    "\n",
    "\n",
    "class TelaNaturezaJuridica:\n",
    "    def __init__(self, janela):\n",
    "        columns = ('codigo', 'descricao')\n",
    "        self.tree = ttk.Treeview(janela, columns=columns, show='headings')\n",
    "        \n",
    "        # Cabeçalho\n",
    "        self.tree.heading('codigo', text='Código')\n",
    "        self.tree.heading('descricao', text='Descrição')\n",
    "\n",
    "        # adicionando barra de rolagem\n",
    "        self.scrollbar = ttk.Scrollbar(janela)\n",
    "        self.scrollbar.pack( side = tk.RIGHT, fill=tk.Y )\n",
    "\n",
    "        #vinculando o treeview ao scrollbar\n",
    "        self.scrollbar.config( command = self.tree.yview )\n",
    "        self.tree.config(yscrollcommand=self.scrollbar.set)\n",
    "\n",
    "        self.tree.pack(fill=tk.BOTH, expand=tk.YES)\n",
    "\n",
    "        #evento de clique\n",
    "        self.tree.bind(\"<Double-1>\", self.selecionarLinha)\n",
    "\n",
    "    def atualizarTabela(self, registros):\n",
    "        for registro in registros:\n",
    "            self.tree.insert('', tk.END, values=registro)\n",
    "    \n",
    "    def selecionarLinha(self,event):\n",
    "        item = self.tree.item( self.tree.selection() )\n",
    "        \n",
    "        print(\"you clicked on\", item['values'])\n",
    "\n",
    "      \n",
    "        "
   ]
  }
 ],
 "metadata": {
  "kernelspec": {
   "display_name": "Python 3",
   "language": "python",
   "name": "python3"
  },
  "language_info": {
   "codemirror_mode": {
    "name": "ipython",
    "version": 3
   },
   "file_extension": ".py",
   "mimetype": "text/x-python",
   "name": "python",
   "nbconvert_exporter": "python",
   "pygments_lexer": "ipython3",
   "version": "3.10.12"
  },
  "orig_nbformat": 4
 },
 "nbformat": 4,
 "nbformat_minor": 2
}
