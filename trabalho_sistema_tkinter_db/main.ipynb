{
 "cells": [
  {
   "cell_type": "markdown",
   "metadata": {},
   "source": [
    "**Conexão principal**"
   ]
  },
  {
   "cell_type": "markdown",
   "metadata": {},
   "source": [
    "- Importando db\n",
    "- Importando biblioteca caminho"
   ]
  },
  {
   "cell_type": "code",
   "execution_count": 6,
   "metadata": {},
   "outputs": [
    {
     "ename": "ModuleNotFoundError",
     "evalue": "No module named 'natureza_juridica_DAO'",
     "output_type": "error",
     "traceback": [
      "\u001b[0;31m---------------------------------------------------------------------------\u001b[0m",
      "\u001b[0;31mModuleNotFoundError\u001b[0m                       Traceback (most recent call last)",
      "\u001b[1;32m/home/matheus/Documentos/MeusProjetos/Desenvolvimento-rapido-em-python/Desenvolvimento-rapido-em-python/trabalho_sistema_tkinter_db/main.ipynb Cell 3\u001b[0m line \u001b[0;36m1\n\u001b[0;32m----> <a href='vscode-notebook-cell:/home/matheus/Documentos/MeusProjetos/Desenvolvimento-rapido-em-python/Desenvolvimento-rapido-em-python/trabalho_sistema_tkinter_db/main.ipynb#W1sZmlsZQ%3D%3D?line=0'>1</a>\u001b[0m \u001b[39mfrom\u001b[39;00m \u001b[39mnatureza_juridica_DAO\u001b[39;00m \u001b[39mimport\u001b[39;00m \u001b[39m*\u001b[39m\n\u001b[1;32m      <a href='vscode-notebook-cell:/home/matheus/Documentos/MeusProjetos/Desenvolvimento-rapido-em-python/Desenvolvimento-rapido-em-python/trabalho_sistema_tkinter_db/main.ipynb#W1sZmlsZQ%3D%3D?line=1'>2</a>\u001b[0m \u001b[39mfrom\u001b[39;00m \u001b[39mtela_natureza_juridica\u001b[39;00m \u001b[39mimport\u001b[39;00m \u001b[39m*\u001b[39m\n\u001b[1;32m      <a href='vscode-notebook-cell:/home/matheus/Documentos/MeusProjetos/Desenvolvimento-rapido-em-python/Desenvolvimento-rapido-em-python/trabalho_sistema_tkinter_db/main.ipynb#W1sZmlsZQ%3D%3D?line=2'>3</a>\u001b[0m \u001b[39mimport\u001b[39;00m \u001b[39mtkinter\u001b[39;00m \u001b[39mas\u001b[39;00m \u001b[39mtk\u001b[39;00m\n",
      "\u001b[0;31mModuleNotFoundError\u001b[0m: No module named 'natureza_juridica_DAO'"
     ]
    }
   ],
   "source": [
    "from natureza_juridica_DAO import *\n",
    "from tela_natureza_juridica import *\n",
    "import tkinter as tk"
   ]
  },
  {
   "cell_type": "code",
   "execution_count": null,
   "metadata": {},
   "outputs": [],
   "source": [
    "from naturezaJuridicaDAO import *\n",
    "from telaNaturezaJuridica import *\n",
    "import tkinter as tk\n",
    "\n",
    "if __name__ == '__main__':\n",
    "\n",
    "    janela = tk.Tk()\n",
    "    telaNatureza = TelaNaturezaJuridica(janela) \n",
    "    naturezaDAO = NaturezaJuridicaDAO()\n",
    "    telaNatureza.atualizarTabela(naturezaDAO.buscar())\n",
    "\n",
    "    janela.mainloop()\n"
   ]
  }
 ],
 "metadata": {
  "kernelspec": {
   "display_name": "Python 3",
   "language": "python",
   "name": "python3"
  },
  "language_info": {
   "codemirror_mode": {
    "name": "ipython",
    "version": 3
   },
   "file_extension": ".py",
   "mimetype": "text/x-python",
   "name": "python",
   "nbconvert_exporter": "python",
   "pygments_lexer": "ipython3",
   "version": "3.10.12"
  },
  "orig_nbformat": 4
 },
 "nbformat": 4,
 "nbformat_minor": 2
}
