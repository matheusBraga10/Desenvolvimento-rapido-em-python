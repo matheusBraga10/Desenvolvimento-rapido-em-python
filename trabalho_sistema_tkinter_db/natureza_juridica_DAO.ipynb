{
 "cells": [
  {
   "cell_type": "markdown",
   "metadata": {},
   "source": [
    "**Cria conexão com principal**"
   ]
  },
  {
   "cell_type": "markdown",
   "metadata": {},
   "source": [
    "- Importando db\n",
    "- Importando biblioteca caminho"
   ]
  },
  {
   "cell_type": "code",
   "execution_count": 5,
   "metadata": {},
   "outputs": [],
   "source": [
    "import sqlite3\n",
    "from pathlib import Path"
   ]
  },
  {
   "cell_type": "markdown",
   "metadata": {},
   "source": [
    "- Criando classe para fazer a conexão"
   ]
  },
  {
   "cell_type": "code",
   "execution_count": 14,
   "metadata": {},
   "outputs": [],
   "source": [
    "class NaturezaJuridicaDAO:\n",
    "    def abrirConexao(self):\n",
    "        try:\n",
    "            caminho_projeto = Path()\n",
    "            caminho_arquivo = Path(__file__)\n",
    "            natureza_juridica_DAO = caminho_arquivo.parent / 'empresas.csv'\n",
    "            natureza_juridica_DAO.touch()\n",
    "            self.conexao = sqlite3.connect(caminho_projeto)\n",
    "            self.cursor = self.conexao.cursor()\n",
    "\n",
    "            return True\n",
    "        except sqlite3.DatabaseError as error:\n",
    "            print(\"Erro na conexao:\", error)\n",
    "            return False\n",
    "        \n",
    "    def fecharConexao(self):\n",
    "        if(self.conexao):\n",
    "            self.cursor.close()\n",
    "            self.conexao.close()\n",
    "\n",
    "    def buscar(self):\n",
    "        if(self.abrirConexao()):\n",
    "            self.cursor.execute(\"select * from natureza_juridica\")\n",
    "            resultado = self.cursor.fetchall()\n",
    "            self.fecharConexao() \n",
    "            return resultado\n",
    "        else:\n",
    "            return None\n",
    "        "
   ]
  }
 ],
 "metadata": {
  "kernelspec": {
   "display_name": "Python 3",
   "language": "python",
   "name": "python3"
  },
  "language_info": {
   "codemirror_mode": {
    "name": "ipython",
    "version": 3
   },
   "file_extension": ".py",
   "mimetype": "text/x-python",
   "name": "python",
   "nbconvert_exporter": "python",
   "pygments_lexer": "ipython3",
   "version": "3.10.12"
  },
  "orig_nbformat": 4
 },
 "nbformat": 4,
 "nbformat_minor": 2
}
