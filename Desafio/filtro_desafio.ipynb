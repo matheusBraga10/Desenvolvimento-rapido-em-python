{
 "cells": [
  {
   "cell_type": "code",
   "execution_count": null,
   "metadata": {},
   "outputs": [],
   "source": [
    "import sqlite3 as conector\n",
    "\n",
    "try:\n",
    "  # abertura da conexão\n",
    "    conexao = conector.connect('/content/drive/MyDrive/ANÁLISE E DESENVOLVIMENTO DE SISTEMAS/4⁰ Período /Desenvolvimento Rápido em Python/Desafio/Empresas/Databae.db')\n",
    "\n",
    "    # aquisição de um cursor\n",
    "    cursor = conexao.cursor()\n",
    "\n",
    "    comando_01 = 'SELECT razao_social, CNPJ FROM Empresas WHERE Cod_porte = 1'\n",
    "\n",
    "    comando_02 = 'SELECT Empresas.razao_social, Empresas.CNPJ, Empresas.Cod_porte, Porte_empresa.porte_empresa FROM Empresas JOIN Porte_empresa ON Porte_empresa.Cod_porte = Empresas.Cod_porte'\n",
    "\n",
    "    cursor.execute(comando_01)\n",
    "    cursor.execute(comando_02)\n",
    "\n",
    "    registros = cursor.fetchall()\n",
    "\n",
    "    for registro in registros:\n",
    "        empresas = Empresas(*registro)\n",
    "        print()"
   ]
  }
 ],
 "metadata": {
  "language_info": {
   "name": "python"
  },
  "orig_nbformat": 4
 },
 "nbformat": 4,
 "nbformat_minor": 2
}
