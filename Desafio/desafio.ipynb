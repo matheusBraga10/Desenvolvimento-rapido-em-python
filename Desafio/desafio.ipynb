{
 "cells": [
  {
   "cell_type": "code",
   "execution_count": null,
   "metadata": {},
   "outputs": [],
   "source": [
    "'''\n",
    "Carregar o arquivo \".csv\" de empresas disponibilizados pela plataforma de dados abertos do governo\n",
    "federal (https://dados.gov.br/dados/conjuntos-dados/cadastro-nacional-da-pessoa-juridica---cnpj) em\n",
    "uma tabela no sqlite através de um programa escrito em Python. Os comandos SQL devem ser escritos neste programa.\n",
    "\n",
    "O arquivo a ser utilizado será o Empresas0:\n",
    "'''"
   ]
  },
  {
   "cell_type": "code",
   "execution_count": 1,
   "metadata": {},
   "outputs": [],
   "source": [
    "import pandas as pd\n",
    "\n",
    "arquivo = '/home/matheus/Empresas0/K3241.K03200Y0.D30812.EMPRECSV'\n",
    "df = pd.read_csv(arquivo, sep=';', encoding='ISO-8859-1')\n",
    "\n",
    "print(df.count())"
   ]
  }
 ],
 "metadata": {
  "kernelspec": {
   "display_name": "Python 3",
   "language": "python",
   "name": "python3"
  },
  "language_info": {
   "codemirror_mode": {
    "name": "ipython",
    "version": 3
   },
   "file_extension": ".py",
   "mimetype": "text/x-python",
   "name": "python",
   "nbconvert_exporter": "python",
   "pygments_lexer": "ipython3",
   "version": "3.10.12"
  },
  "orig_nbformat": 4
 },
 "nbformat": 4,
 "nbformat_minor": 2
}
