{
 "cells": [
  {
   "cell_type": "code",
   "execution_count": 17,
   "metadata": {},
   "outputs": [
    {
     "data": {
      "text/plain": [
       "'\\nCarregar o arquivo \".csv\" de empresas disponibilizados pela plataforma de dados abertos do governo\\nfederal (https://dados.gov.br/dados/conjuntos-dados/cadastro-nacional-da-pessoa-juridica---cnpj) em\\numa tabela no sqlite através de um programa escrito em Python. Os comandos SQL devem ser escritos neste programa.\\n\\nO arquivo a ser utilizado será o Empresas0:\\n'"
      ]
     },
     "execution_count": 17,
     "metadata": {},
     "output_type": "execute_result"
    }
   ],
   "source": [
    "'''\n",
    "Carregar o arquivo \".csv\" de empresas disponibilizados pela plataforma de dados abertos do governo\n",
    "federal (https://dados.gov.br/dados/conjuntos-dados/cadastro-nacional-da-pessoa-juridica---cnpj) em\n",
    "uma tabela no sqlite através de um programa escrito em Python. Os comandos SQL devem ser escritos neste programa.\n",
    "\n",
    "O arquivo a ser utilizado será o Empresas0:\n",
    "'''"
   ]
  },
  {
   "cell_type": "code",
   "execution_count": 32,
   "metadata": {},
   "outputs": [
    {
     "name": "stdout",
     "output_type": "stream",
     "text": [
      "41273594                              9999\n",
      "OZINETE DELFINO CALDAS 41608224287    9999\n",
      "2135                                  9999\n",
      "50                                    9999\n",
      "5000,00                               9999\n",
      "01                                    9999\n",
      "Unnamed: 6                               3\n",
      "dtype: int64\n"
     ]
    }
   ],
   "source": [
    "import pandas as pd\n",
    "\n",
    "arquivo = '/home/matheus/Empresas0/empresas.csv'\n",
    "df = pd.read_csv(arquivo, sep=';', encoding='ISO-8859-1')\n",
    "\n",
    "print(df.count())"
   ]
  },
  {
   "cell_type": "code",
   "execution_count": 36,
   "metadata": {},
   "outputs": [],
   "source": [
    "import sqlite3 as conector\n",
    "\n",
    "try:\n",
    "  # abertura da conexão\n",
    "    conexao = conector.connect('/home/matheus/Documentos/MeusProjetos/Desenvolvimento-rapido-em-python/Desenvolvimento-rapido-em-python/Desafio/Database.db')\n",
    "# aquisição de um cursor\n",
    "    cursor = conexao.cursor()\n",
    "\n",
    "    comando_01 = '''\n",
    "    CREATE TABLE Empresas\n",
    "    (\n",
    "    CNPJ INT(11) NOT NULL,\n",
    "    razao_social VARCHAR(30) NOT NULL,\n",
    "    natureza_juridica VARCHAR(12) NOT NULL,\n",
    "    qualificacao_responsavel VARCHAR(30),\n",
    "    capital_social INT(10),\n",
    "    porte_empresa VARCHAR(30),\n",
    "    Ente_federativo VARCHAR(30),\n",
    "    PRIMARY KEY (CNPJ)\n",
    "    );\n",
    "    '''\n",
    "# execução do comando: SELECT, INSERT, CREATE...\n",
    "    cursor.execute(comando_01)\n",
    " \n",
    "# Efetivação do comando\n",
    "    conexao.commit()\n",
    "\n",
    "except conector.DatabaseError as erro:\n",
    "  print('Erro no banco de dados', erro)\n",
    "finally:\n",
    "  # fechamento das conexoes\n",
    "  cursor.close()\n",
    "  conexao.close()\n",
    "\n"
   ]
  },
  {
   "cell_type": "code",
   "execution_count": null,
   "metadata": {},
   "outputs": [],
   "source": []
  }
 ],
 "metadata": {
  "kernelspec": {
   "display_name": "Python 3",
   "language": "python",
   "name": "python3"
  },
  "language_info": {
   "codemirror_mode": {
    "name": "ipython",
    "version": 3
   },
   "file_extension": ".py",
   "mimetype": "text/x-python",
   "name": "python",
   "nbconvert_exporter": "python",
   "pygments_lexer": "ipython3",
   "version": "3.10.12"
  },
  "orig_nbformat": 4
 },
 "nbformat": 4,
 "nbformat_minor": 2
}
